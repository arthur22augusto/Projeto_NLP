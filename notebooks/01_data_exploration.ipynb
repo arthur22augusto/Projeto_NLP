{
 "cells": [
  {
   "cell_type": "markdown",
   "id": "b7dd2245",
   "metadata": {},
   "source": [
    "# Data ingestion"
   ]
  },
  {
   "cell_type": "code",
   "execution_count": null,
   "id": "3c502d2c",
   "metadata": {},
   "outputs": [],
   "source": [
    "import kagglehub\n",
    "import shutil\n",
    "\n",
    "# Download latest version\n",
    "path = kagglehub.dataset_download(\"thoughtvector/customer-support-on-twitter\")\n",
    "# Move the files to the data/raw folder\n",
    "shutil.move(path, \"../data/raw\")"
   ]
  },
  {
   "cell_type": "markdown",
   "id": "73a07f86",
   "metadata": {},
   "source": [
    "# E.D.A"
   ]
  },
  {
   "cell_type": "code",
   "execution_count": null,
   "id": "415d650b",
   "metadata": {},
   "outputs": [],
   "source": [
    "import pandas as pd"
   ]
  },
  {
   "cell_type": "markdown",
   "id": "3806892e",
   "metadata": {},
   "source": [
    "## Reading the data"
   ]
  },
  {
   "cell_type": "code",
   "execution_count": null,
   "id": "22d447d5",
   "metadata": {},
   "outputs": [],
   "source": [
    "# Reading the complete dataset\n",
    "data_complete = pd.read_csv('../data/raw/10/twcs/twcs.csv')\n",
    "\n",
    "# Sampling the dada\n",
    "data_sample = data_complete.sample(n=50000, random_state=22)\n",
    "\n",
    "# Unloading the complete dataset\n",
    "del data_complete"
   ]
  },
  {
   "cell_type": "markdown",
   "id": "8fd6193c",
   "metadata": {},
   "source": [
    "## First glance at the Data"
   ]
  },
  {
   "cell_type": "code",
   "execution_count": 28,
   "id": "49dd1ad8",
   "metadata": {},
   "outputs": [
    {
     "data": {
      "text/plain": [
       "(50000, 7)"
      ]
     },
     "execution_count": 28,
     "metadata": {},
     "output_type": "execute_result"
    }
   ],
   "source": [
    "# Shapes of the data\n",
    "data_sample.shape"
   ]
  },
  {
   "cell_type": "code",
   "execution_count": 29,
   "id": "0a8b18d6",
   "metadata": {},
   "outputs": [
    {
     "data": {
      "text/plain": [
       "Index(['tweet_id', 'author_id', 'inbound', 'created_at', 'text',\n",
       "       'response_tweet_id', 'in_response_to_tweet_id'],\n",
       "      dtype='object')"
      ]
     },
     "execution_count": 29,
     "metadata": {},
     "output_type": "execute_result"
    }
   ],
   "source": [
    "# First glance at the columns\n",
    "data_sample.columns"
   ]
  },
  {
   "cell_type": "code",
   "execution_count": 30,
   "id": "459a4820",
   "metadata": {},
   "outputs": [
    {
     "data": {
      "text/plain": [
       "tweet_id                     int64\n",
       "author_id                   object\n",
       "inbound                       bool\n",
       "created_at                  object\n",
       "text                        object\n",
       "response_tweet_id           object\n",
       "in_response_to_tweet_id    float64\n",
       "dtype: object"
      ]
     },
     "execution_count": 30,
     "metadata": {},
     "output_type": "execute_result"
    }
   ],
   "source": [
    "# Looking at the dtypes\n",
    "data_sample.dtypes\n",
    "\n",
    "# Here we can see that the data has some columns that are in the wrong format,\n",
    "# like the 'created_at' column, which is a string, but should be a timestamp."
   ]
  },
  {
   "cell_type": "code",
   "execution_count": null,
   "id": "9c38b72c",
   "metadata": {},
   "outputs": [
    {
     "data": {
      "text/plain": [
       "tweet_id                       0\n",
       "author_id                      0\n",
       "inbound                        0\n",
       "created_at                     0\n",
       "text                           0\n",
       "response_tweet_id          18402\n",
       "in_response_to_tweet_id    14173\n",
       "dtype: int64"
      ]
     },
     "execution_count": 31,
     "metadata": {},
     "output_type": "execute_result"
    }
   ],
   "source": [
    "# Looking at NA values\n",
    "data_sample.isna().sum()\n",
    "\n",
    "# We can see that there are some NA values in the 'response_tweet_id' and 'in_responso_to_tweet_id' columns"
   ]
  },
  {
   "cell_type": "code",
   "execution_count": 32,
   "id": "7cc639f5",
   "metadata": {},
   "outputs": [
    {
     "data": {
      "text/html": [
       "<div>\n",
       "<style scoped>\n",
       "    .dataframe tbody tr th:only-of-type {\n",
       "        vertical-align: middle;\n",
       "    }\n",
       "\n",
       "    .dataframe tbody tr th {\n",
       "        vertical-align: top;\n",
       "    }\n",
       "\n",
       "    .dataframe thead th {\n",
       "        text-align: right;\n",
       "    }\n",
       "</style>\n",
       "<table border=\"1\" class=\"dataframe\">\n",
       "  <thead>\n",
       "    <tr style=\"text-align: right;\">\n",
       "      <th></th>\n",
       "      <th>tweet_id</th>\n",
       "      <th>author_id</th>\n",
       "      <th>inbound</th>\n",
       "      <th>created_at</th>\n",
       "      <th>text</th>\n",
       "      <th>response_tweet_id</th>\n",
       "      <th>in_response_to_tweet_id</th>\n",
       "    </tr>\n",
       "  </thead>\n",
       "  <tbody>\n",
       "    <tr>\n",
       "      <th>1711915</th>\n",
       "      <td>1866134</td>\n",
       "      <td>557521</td>\n",
       "      <td>True</td>\n",
       "      <td>Wed Oct 18 07:47:48 +0000 2017</td>\n",
       "      <td>I survived the @sainsburys 2017 toy sale. http...</td>\n",
       "      <td>1866135,1866133</td>\n",
       "      <td>NaN</td>\n",
       "    </tr>\n",
       "    <tr>\n",
       "      <th>2719109</th>\n",
       "      <td>2894171</td>\n",
       "      <td>802094</td>\n",
       "      <td>True</td>\n",
       "      <td>Mon Nov 27 08:39:10 +0000 2017</td>\n",
       "      <td>@AskPlayStation my HDMI port stopped working o...</td>\n",
       "      <td>2894169</td>\n",
       "      <td>NaN</td>\n",
       "    </tr>\n",
       "    <tr>\n",
       "      <th>718797</th>\n",
       "      <td>803619</td>\n",
       "      <td>XboxSupport</td>\n",
       "      <td>False</td>\n",
       "      <td>Thu Oct 12 16:53:27 +0000 2017</td>\n",
       "      <td>@310023 Hi there, when you get a moment what y...</td>\n",
       "      <td>NaN</td>\n",
       "      <td>803618.0</td>\n",
       "    </tr>\n",
       "    <tr>\n",
       "      <th>899788</th>\n",
       "      <td>999369</td>\n",
       "      <td>356632</td>\n",
       "      <td>True</td>\n",
       "      <td>Wed Oct 18 14:53:21 +0000 2017</td>\n",
       "      <td>@ATVIAssist My stats there not mine they fake ...</td>\n",
       "      <td>NaN</td>\n",
       "      <td>999368.0</td>\n",
       "    </tr>\n",
       "    <tr>\n",
       "      <th>2720137</th>\n",
       "      <td>2895215</td>\n",
       "      <td>802343</td>\n",
       "      <td>True</td>\n",
       "      <td>Tue Nov 28 15:55:15 +0000 2017</td>\n",
       "      <td>@CoxHelp Message sent.</td>\n",
       "      <td>NaN</td>\n",
       "      <td>2895214.0</td>\n",
       "    </tr>\n",
       "  </tbody>\n",
       "</table>\n",
       "</div>"
      ],
      "text/plain": [
       "         tweet_id    author_id  inbound                      created_at  \\\n",
       "1711915   1866134       557521     True  Wed Oct 18 07:47:48 +0000 2017   \n",
       "2719109   2894171       802094     True  Mon Nov 27 08:39:10 +0000 2017   \n",
       "718797     803619  XboxSupport    False  Thu Oct 12 16:53:27 +0000 2017   \n",
       "899788     999369       356632     True  Wed Oct 18 14:53:21 +0000 2017   \n",
       "2720137   2895215       802343     True  Tue Nov 28 15:55:15 +0000 2017   \n",
       "\n",
       "                                                      text response_tweet_id  \\\n",
       "1711915  I survived the @sainsburys 2017 toy sale. http...   1866135,1866133   \n",
       "2719109  @AskPlayStation my HDMI port stopped working o...           2894169   \n",
       "718797   @310023 Hi there, when you get a moment what y...               NaN   \n",
       "899788   @ATVIAssist My stats there not mine they fake ...               NaN   \n",
       "2720137                             @CoxHelp Message sent.               NaN   \n",
       "\n",
       "         in_response_to_tweet_id  \n",
       "1711915                      NaN  \n",
       "2719109                      NaN  \n",
       "718797                  803618.0  \n",
       "899788                  999368.0  \n",
       "2720137                2895214.0  "
      ]
     },
     "execution_count": 32,
     "metadata": {},
     "output_type": "execute_result"
    }
   ],
   "source": [
    "# Overview of the data\n",
    "data_sample.head()"
   ]
  },
  {
   "cell_type": "code",
   "execution_count": null,
   "id": "4d1f7ee9",
   "metadata": {},
   "outputs": [
    {
     "data": {
      "text/plain": [
       "author_id\n",
       "AmazonHelp      3015\n",
       "AppleSupport    1885\n",
       "Uber_Support    1001\n",
       "Delta            759\n",
       "SpotifyCares     757\n",
       "                ... \n",
       "505368             1\n",
       "603466             1\n",
       "393694             1\n",
       "289381             1\n",
       "375342             1\n",
       "Name: count, Length: 26450, dtype: int64"
      ]
     },
     "execution_count": 33,
     "metadata": {},
     "output_type": "execute_result"
    }
   ],
   "source": [
    "# Looking at the author_id column\n",
    "data_sample['author_id'].value_counts().sort_values(ascending=False)\n",
    "\n",
    "# We can see that company tweets is most common"
   ]
  },
  {
   "cell_type": "code",
   "execution_count": null,
   "id": "1bcbc4bc",
   "metadata": {},
   "outputs": [
    {
     "name": "stdout",
     "output_type": "stream",
     "text": [
      "author_id\n",
      "AmazonHelp        3015\n",
      "AppleSupport      1885\n",
      "Uber_Support      1001\n",
      "Delta              759\n",
      "SpotifyCares       757\n",
      "                  ... \n",
      "CarlsJr              5\n",
      "AskDSC               4\n",
      "OfficeSupport        3\n",
      "HotelTonightCX       2\n",
      "JackBox              2\n",
      "Name: count, Length: 108, dtype: int64\n"
     ]
    }
   ],
   "source": [
    "# Filtering the data to only include tweets from companies\n",
    "mask = data_sample['author_id'].str.contains(r'[A-Za-z]', na=False)\n",
    "\n",
    "# Count and order the tweets from companies\n",
    "company_counts = (\n",
    "    data_sample.loc[mask, 'author_id']\n",
    "    .value_counts()\n",
    "    .sort_values(ascending=False)\n",
    ")\n",
    "\n",
    "print(company_counts)\n",
    "\n",
    "# So we can see there are 108 campanys in the sample, and the most common is Amazon, Apple, Uber, Delta and spotify"
   ]
  },
  {
   "cell_type": "code",
   "execution_count": 37,
   "id": "0b9d201e",
   "metadata": {},
   "outputs": [
    {
     "data": {
      "text/html": [
       "<div>\n",
       "<style scoped>\n",
       "    .dataframe tbody tr th:only-of-type {\n",
       "        vertical-align: middle;\n",
       "    }\n",
       "\n",
       "    .dataframe tbody tr th {\n",
       "        vertical-align: top;\n",
       "    }\n",
       "\n",
       "    .dataframe thead th {\n",
       "        text-align: right;\n",
       "    }\n",
       "</style>\n",
       "<table border=\"1\" class=\"dataframe\">\n",
       "  <thead>\n",
       "    <tr style=\"text-align: right;\">\n",
       "      <th></th>\n",
       "      <th>tweet_id</th>\n",
       "      <th>author_id</th>\n",
       "      <th>inbound</th>\n",
       "      <th>created_at</th>\n",
       "      <th>text</th>\n",
       "      <th>response_tweet_id</th>\n",
       "      <th>in_response_to_tweet_id</th>\n",
       "      <th>in_response_to_tweet_id_norm</th>\n",
       "    </tr>\n",
       "  </thead>\n",
       "  <tbody>\n",
       "    <tr>\n",
       "      <th>1711915</th>\n",
       "      <td>1866134</td>\n",
       "      <td>557521</td>\n",
       "      <td>True</td>\n",
       "      <td>2017-10-18 07:47:48+00:00</td>\n",
       "      <td>I survived the @sainsburys 2017 toy sale. http...</td>\n",
       "      <td>1866135,1866133</td>\n",
       "      <td>NaN</td>\n",
       "      <td>&lt;NA&gt;</td>\n",
       "    </tr>\n",
       "    <tr>\n",
       "      <th>2719109</th>\n",
       "      <td>2894171</td>\n",
       "      <td>802094</td>\n",
       "      <td>True</td>\n",
       "      <td>2017-11-27 08:39:10+00:00</td>\n",
       "      <td>@AskPlayStation my HDMI port stopped working o...</td>\n",
       "      <td>2894169</td>\n",
       "      <td>NaN</td>\n",
       "      <td>&lt;NA&gt;</td>\n",
       "    </tr>\n",
       "    <tr>\n",
       "      <th>718797</th>\n",
       "      <td>803619</td>\n",
       "      <td>XboxSupport</td>\n",
       "      <td>False</td>\n",
       "      <td>2017-10-12 16:53:27+00:00</td>\n",
       "      <td>@310023 Hi there, when you get a moment what y...</td>\n",
       "      <td>NaN</td>\n",
       "      <td>803618.0</td>\n",
       "      <td>803618</td>\n",
       "    </tr>\n",
       "    <tr>\n",
       "      <th>899788</th>\n",
       "      <td>999369</td>\n",
       "      <td>356632</td>\n",
       "      <td>True</td>\n",
       "      <td>2017-10-18 14:53:21+00:00</td>\n",
       "      <td>@ATVIAssist My stats there not mine they fake ...</td>\n",
       "      <td>NaN</td>\n",
       "      <td>999368.0</td>\n",
       "      <td>999368</td>\n",
       "    </tr>\n",
       "    <tr>\n",
       "      <th>2720137</th>\n",
       "      <td>2895215</td>\n",
       "      <td>802343</td>\n",
       "      <td>True</td>\n",
       "      <td>2017-11-28 15:55:15+00:00</td>\n",
       "      <td>@CoxHelp Message sent.</td>\n",
       "      <td>NaN</td>\n",
       "      <td>2895214.0</td>\n",
       "      <td>2895214</td>\n",
       "    </tr>\n",
       "  </tbody>\n",
       "</table>\n",
       "</div>"
      ],
      "text/plain": [
       "         tweet_id    author_id  inbound                created_at  \\\n",
       "1711915   1866134       557521     True 2017-10-18 07:47:48+00:00   \n",
       "2719109   2894171       802094     True 2017-11-27 08:39:10+00:00   \n",
       "718797     803619  XboxSupport    False 2017-10-12 16:53:27+00:00   \n",
       "899788     999369       356632     True 2017-10-18 14:53:21+00:00   \n",
       "2720137   2895215       802343     True 2017-11-28 15:55:15+00:00   \n",
       "\n",
       "                                                      text response_tweet_id  \\\n",
       "1711915  I survived the @sainsburys 2017 toy sale. http...   1866135,1866133   \n",
       "2719109  @AskPlayStation my HDMI port stopped working o...           2894169   \n",
       "718797   @310023 Hi there, when you get a moment what y...               NaN   \n",
       "899788   @ATVIAssist My stats there not mine they fake ...               NaN   \n",
       "2720137                             @CoxHelp Message sent.               NaN   \n",
       "\n",
       "         in_response_to_tweet_id  in_response_to_tweet_id_norm  \n",
       "1711915                      NaN                          <NA>  \n",
       "2719109                      NaN                          <NA>  \n",
       "718797                  803618.0                        803618  \n",
       "899788                  999368.0                        999368  \n",
       "2720137                2895214.0                       2895214  "
      ]
     },
     "execution_count": 37,
     "metadata": {},
     "output_type": "execute_result"
    }
   ],
   "source": [
    "import numpy as np\n",
    "\n",
    "# Make sure datetime is correct\n",
    "data_sample['created_at'] = pd.to_datetime(\n",
    "    data_sample['created_at'], utc=True, errors='coerce'\n",
    ")\n",
    "\n",
    "# Normalize the tweet id to integer null (Int64)\n",
    "resp_to = pd.to_numeric(\n",
    "    data_sample['in_response_to_tweet_id'], errors='coerce'\n",
    ").astype('Int64')\n",
    "data_sample['in_response_to_tweet_id_norm'] = resp_to\n",
    "\n",
    "\n",
    "data_sample.head()"
   ]
  },
  {
   "cell_type": "code",
   "execution_count": 38,
   "id": "eda37d3f",
   "metadata": {},
   "outputs": [
    {
     "data": {
      "text/html": [
       "<div>\n",
       "<style scoped>\n",
       "    .dataframe tbody tr th:only-of-type {\n",
       "        vertical-align: middle;\n",
       "    }\n",
       "\n",
       "    .dataframe tbody tr th {\n",
       "        vertical-align: top;\n",
       "    }\n",
       "\n",
       "    .dataframe thead th {\n",
       "        text-align: right;\n",
       "    }\n",
       "</style>\n",
       "<table border=\"1\" class=\"dataframe\">\n",
       "  <thead>\n",
       "    <tr style=\"text-align: right;\">\n",
       "      <th></th>\n",
       "      <th>tweet_id</th>\n",
       "      <th>author_id</th>\n",
       "      <th>orig_tweet_id</th>\n",
       "      <th>response_time_min</th>\n",
       "      <th>response_time_h</th>\n",
       "    </tr>\n",
       "  </thead>\n",
       "  <tbody>\n",
       "    <tr>\n",
       "      <th>53</th>\n",
       "      <td>1908454</td>\n",
       "      <td>AmericanAir</td>\n",
       "      <td>1908456.0</td>\n",
       "      <td>10.950000</td>\n",
       "      <td>0.182500</td>\n",
       "    </tr>\n",
       "    <tr>\n",
       "      <th>101</th>\n",
       "      <td>26135</td>\n",
       "      <td>SW_Help</td>\n",
       "      <td>26133.0</td>\n",
       "      <td>12.033333</td>\n",
       "      <td>0.200556</td>\n",
       "    </tr>\n",
       "    <tr>\n",
       "      <th>133</th>\n",
       "      <td>2267444</td>\n",
       "      <td>AskLyft</td>\n",
       "      <td>2267445.0</td>\n",
       "      <td>22.983333</td>\n",
       "      <td>0.383056</td>\n",
       "    </tr>\n",
       "    <tr>\n",
       "      <th>141</th>\n",
       "      <td>1452676</td>\n",
       "      <td>Safaricom_Care</td>\n",
       "      <td>1452677.0</td>\n",
       "      <td>80.583333</td>\n",
       "      <td>1.343056</td>\n",
       "    </tr>\n",
       "    <tr>\n",
       "      <th>240</th>\n",
       "      <td>1330317</td>\n",
       "      <td>sprintcare</td>\n",
       "      <td>1330318.0</td>\n",
       "      <td>1.616667</td>\n",
       "      <td>0.026944</td>\n",
       "    </tr>\n",
       "  </tbody>\n",
       "</table>\n",
       "</div>"
      ],
      "text/plain": [
       "     tweet_id       author_id  orig_tweet_id  response_time_min  \\\n",
       "53    1908454     AmericanAir      1908456.0          10.950000   \n",
       "101     26135         SW_Help        26133.0          12.033333   \n",
       "133   2267444         AskLyft      2267445.0          22.983333   \n",
       "141   1452676  Safaricom_Care      1452677.0          80.583333   \n",
       "240   1330317      sprintcare      1330318.0           1.616667   \n",
       "\n",
       "     response_time_h  \n",
       "53          0.182500  \n",
       "101         0.200556  \n",
       "133         0.383056  \n",
       "141         1.343056  \n",
       "240         0.026944  "
      ]
     },
     "execution_count": 38,
     "metadata": {},
     "output_type": "execute_result"
    }
   ],
   "source": [
    "# Responses from companies with valid reference to the original tweet\n",
    "is_reply = (\n",
    "    (data_sample['inbound'] == False) &\n",
    "    (data_sample['in_response_to_tweet_id_norm'].notna())\n",
    ")\n",
    "\n",
    "replies = data_sample.loc[\n",
    "    is_reply,\n",
    "    ['tweet_id', 'author_id', 'created_at', 'in_response_to_tweet_id_norm']\n",
    "].rename(columns={'created_at': 'reply_time'})\n",
    "\n",
    "# Original tweets (can be from customer or company)\n",
    "orig = data_sample.loc[\n",
    "    :, ['tweet_id', 'author_id', 'inbound', 'created_at']\n",
    "].rename(columns={\n",
    "    'tweet_id': 'orig_tweet_id',\n",
    "    'author_id': 'orig_author_id',\n",
    "    'created_at': 'orig_time'\n",
    "})\n",
    "\n",
    "# Merge each response to the original tweet\n",
    "resp_df = replies.merge(\n",
    "    orig,\n",
    "    left_on='in_response_to_tweet_id_norm',\n",
    "    right_on='orig_tweet_id',\n",
    "    how='left'\n",
    ")\n",
    "\n",
    "# Keep customer -> company interactions (inbound True)\n",
    "resp_df = resp_df.loc[resp_df['inbound'] == True].copy()\n",
    "\n",
    "# Calculate response time in minutes (non-negative)\n",
    "resp_df['response_time_min'] = (\n",
    "    (resp_df['reply_time'] - resp_df['orig_time']).dt.total_seconds() / 60.0\n",
    ")\n",
    "resp_df = resp_df.loc[\n",
    "    resp_df['response_time_min'].notna() & (resp_df['response_time_min'] >= 0)\n",
    "].copy()\n",
    "\n",
    "# Optional: column in hours for reading\n",
    "resp_df['response_time_h'] = resp_df['response_time_min'] / 60.0\n",
    "\n",
    "resp_df[['tweet_id', 'author_id', 'orig_tweet_id',\n",
    "         'response_time_min', 'response_time_h']].head()"
   ]
  },
  {
   "cell_type": "code",
   "execution_count": 39,
   "id": "42506a29",
   "metadata": {},
   "outputs": [
    {
     "name": "stdout",
     "output_type": "stream",
     "text": [
      "Resumo (min):\n",
      "count      430.00\n",
      "mean       518.66\n",
      "std       4240.50\n",
      "min          0.55\n",
      "25%          6.69\n",
      "50%         24.12\n",
      "75%        108.85\n",
      "90%        583.45\n",
      "95%       1459.85\n",
      "99%       7472.01\n",
      "max      85057.85\n",
      "Name: response_time_min, dtype: float64\n",
      "IQR: 102.16 | Limite sup (1.5*IQR): 262.08\n",
      "Outliers acima do limite: 71\n"
     ]
    }
   ],
   "source": [
    "# Getting some statistics about response time\n",
    "\n",
    "\n",
    "rt = resp_df['response_time_min']\n",
    "\n",
    "desc = rt.describe(percentiles=[.25, .5, .75, .9, .95, .99])\n",
    "iqr = desc['75%'] - desc['25%']\n",
    "upper_fence = desc['75%'] + 1.5 * iqr\n",
    "\n",
    "print('Resumo (min):')\n",
    "print(desc.round(2))\n",
    "print(f'IQR: {iqr:.2f} | Limite sup (1.5*IQR): {upper_fence:.2f}')\n",
    "print(f'Outliers acima do limite: {(rt > upper_fence).sum()}')"
   ]
  },
  {
   "cell_type": "code",
   "execution_count": 40,
   "id": "6f484f5b",
   "metadata": {},
   "outputs": [],
   "source": [
    "# Some visualizations\n",
    "\n",
    "import matplotlib.pyplot as plt\n",
    "import seaborn as sns"
   ]
  },
  {
   "cell_type": "code",
   "execution_count": 41,
   "id": "270ea5b8",
   "metadata": {},
   "outputs": [
    {
     "data": {
      "image/png": "[encoded data removed]",
      "text/plain": [
       "<Figure size 1600x400 with 3 Axes>"
      ]
     },
     "metadata": {},
     "output_type": "display_data"
    }
   ],
   "source": [
    "sns.set(style='whitegrid')\n",
    "rt = resp_df['response_time_min']\n",
    "\n",
    "fig, axes = plt.subplots(1, 3, figsize=(16, 4))\n",
    "\n",
    "# Linear histogram\n",
    "sns.histplot(rt, bins=50, kde=False, ax=axes[0], color='#4c72b0')\n",
    "axes[0].set_title('Hist (min)')\n",
    "axes[0].set_xlabel('response_time_min')\n",
    "axes[0].set_ylabel('count')\n",
    "\n",
    "# Log histogram\n",
    "sns.histplot(rt, bins=50, kde=False, ax=axes[1], color='#dd8452', log_scale=True)\n",
    "axes[1].set_title('Hist (log x)')\n",
    "axes[1].set_xlabel('response_time_min (log)')\n",
    "axes[1].set_ylabel('count')\n",
    "\n",
    "# Boxplot\n",
    "sns.boxplot(x=rt, ax=axes[2], color='#55a868')\n",
    "axes[2].set_title('Boxplot (min)')\n",
    "axes[2].set_xlabel('response_time_min')\n",
    "\n",
    "plt.tight_layout()\n",
    "plt.show()"
   ]
  },
  {
   "cell_type": "code",
   "execution_count": 42,
   "id": "f9404b5b",
   "metadata": {},
   "outputs": [
    {
     "name": "stdout",
     "output_type": "stream",
     "text": [
      "author_id\n",
      "NortonSupport      2.3\n",
      "CenturyLinkHelp    2.3\n",
      "YahooCare          2.4\n",
      "AlaskaAir          2.4\n",
      "JetBlue            2.8\n",
      "AskLyft            3.3\n",
      "USCellularCares    3.5\n",
      "TMobileHelp        3.6\n",
      "AirbnbHelp         3.8\n",
      "AzureSupport       3.9\n",
      "VerizonSupport     4.3\n",
      "DoorDash_Help      4.6\n",
      "ArgosHelpers       6.0\n",
      "VirginAtlantic     7.2\n",
      "nationalrailenq    7.9\n",
      "Name: response_time_min, dtype: float64\n"
     ]
    },
    {
     "data": {
      "image/png": "[encoded data removed]",
      "text/plain": [
       "<Figure size 800x600 with 1 Axes>"
      ]
     },
     "metadata": {},
     "output_type": "display_data"
    }
   ],
   "source": [
    "# Visualizing the response time by company\n",
    "by_company = resp_df.groupby('author_id')['response_time_min']\n",
    "company_median = by_company.median().sort_values()\n",
    "\n",
    "top15 = company_median.head(15)\n",
    "print(top15.round(1))\n",
    "\n",
    "plt.figure(figsize=(8, 6))\n",
    "sns.barplot(\n",
    "    x=top15.values,\n",
    "    y=top15.index,\n",
    "    color='#4c72b0',\n",
    "    orient='h'\n",
    ")\n",
    "plt.xlabel('Median response_time (min)')\n",
    "plt.ylabel('Company')\n",
    "plt.title('Top 15 (median)')\n",
    "plt.tight_layout()\n",
    "plt.show()"
   ]
  },
  {
   "cell_type": "markdown",
   "id": "28cd9139",
   "metadata": {},
   "source": [
    "## Creating target variable"
   ]
  },
  {
   "cell_type": "code",
   "execution_count": null,
   "id": "eeab6315",
   "metadata": {},
   "outputs": [],
   "source": [
    "# Installing dependencies\n",
    "#!pip -q install transformers torch accelerate tqdm\n",
    "\n",
    "# Importing dependencies\n",
    "import re\n",
    "import math\n",
    "import torch\n",
    "from tqdm.auto import tqdm\n",
    "from transformers import pipeline"
   ]
  },
  {
   "cell_type": "code",
   "execution_count": null,
   "id": "2dfc0612",
   "metadata": {},
   "outputs": [
    {
     "name": "stderr",
     "output_type": "stream",
     "text": [
      "Computando conversation_id: 100%|██████████| 50000/50000 [00:00<00:00, 410250.63it/s]\n"
     ]
    }
   ],
   "source": [
    "# Converting tweet_id and in_response_to_tweet_id to Int64\n",
    "data_sample['tweet_id'] = pd.to_numeric(\n",
    "    data_sample['tweet_id'], errors='coerce'\n",
    ").astype('Int64')\n",
    "\n",
    "data_sample['in_response_to_tweet_id'] = pd.to_numeric(\n",
    "    data_sample['in_response_to_tweet_id'], errors='coerce'\n",
    ").astype('Int64')\n",
    "\n",
    "# Creating a dictionary to map the relation between tweet_id and in_response_to_tweet_id\n",
    "parent_of = dict(\n",
    "    data_sample[['tweet_id', 'in_response_to_tweet_id']]\n",
    "    .dropna().to_numpy()\n",
    ")\n",
    "\n",
    "\n",
    "# Root of conversation = last message of the conversation\n",
    "root_cache = {}\n",
    "\n",
    "def get_root(tid, max_steps=50):\n",
    "    x = tid\n",
    "    path = []\n",
    "    steps = 0\n",
    "    while True:\n",
    "        if x in root_cache:\n",
    "            root = root_cache[x]\n",
    "            break\n",
    "        parent = parent_of.get(x, np.nan)\n",
    "        if pd.isna(parent) or parent not in parent_of:\n",
    "            root = x\n",
    "            break\n",
    "        if steps >= max_steps:  # proteção a ciclos/threads longas\n",
    "            root = x\n",
    "            break\n",
    "        path.append(x)\n",
    "        x = parent\n",
    "        steps += 1\n",
    "    for p in path:\n",
    "        root_cache[p] = root\n",
    "    return root\n",
    "\n",
    "tqdm.pandas(desc='Computando conversation_id')\n",
    "data_sample['conversation_id'] = data_sample['tweet_id'].progress_apply(\n",
    "    get_root\n",
    ").astype('Int64')"
   ]
  },
  {
   "cell_type": "code",
   "execution_count": null,
   "id": "46030bf3",
   "metadata": {},
   "outputs": [
    {
     "name": "stdout",
     "output_type": "stream",
     "text": [
      "Threads maiores: {np.int64(1034144): 3, np.int64(2463032): 3, np.int64(2492749): 3, np.int64(393353): 2, np.int64(652057): 2, np.int64(1453666): 2, np.int64(812163): 2, np.int64(93667): 2, np.int64(117086): 2, np.int64(1427765): 2}\n",
      "\n",
      "Exemplo de conversa:\n"
     ]
    },
    {
     "data": {
      "text/html": [
       "<div>\n",
       "<style scoped>\n",
       "    .dataframe tbody tr th:only-of-type {\n",
       "        vertical-align: middle;\n",
       "    }\n",
       "\n",
       "    .dataframe tbody tr th {\n",
       "        vertical-align: top;\n",
       "    }\n",
       "\n",
       "    .dataframe thead th {\n",
       "        text-align: right;\n",
       "    }\n",
       "</style>\n",
       "<table border=\"1\" class=\"dataframe\">\n",
       "  <thead>\n",
       "    <tr style=\"text-align: right;\">\n",
       "      <th></th>\n",
       "      <th>conversation_id</th>\n",
       "      <th>tweet_id</th>\n",
       "      <th>inbound</th>\n",
       "      <th>author_id</th>\n",
       "      <th>in_response_to_tweet_id</th>\n",
       "      <th>created_at</th>\n",
       "    </tr>\n",
       "  </thead>\n",
       "  <tbody>\n",
       "    <tr>\n",
       "      <th>931957</th>\n",
       "      <td>1034144</td>\n",
       "      <td>1034144</td>\n",
       "      <td>False</td>\n",
       "      <td>AskPayPal</td>\n",
       "      <td>1034145</td>\n",
       "      <td>2017-10-20 05:03:27+00:00</td>\n",
       "    </tr>\n",
       "    <tr>\n",
       "      <th>931956</th>\n",
       "      <td>1034144</td>\n",
       "      <td>1034137</td>\n",
       "      <td>True</td>\n",
       "      <td>364651</td>\n",
       "      <td>1034144</td>\n",
       "      <td>2017-10-20 08:57:50+00:00</td>\n",
       "    </tr>\n",
       "    <tr>\n",
       "      <th>931948</th>\n",
       "      <td>1034144</td>\n",
       "      <td>1034135</td>\n",
       "      <td>False</td>\n",
       "      <td>AskPayPal</td>\n",
       "      <td>1034137</td>\n",
       "      <td>2017-10-23 06:11:28+00:00</td>\n",
       "    </tr>\n",
       "  </tbody>\n",
       "</table>\n",
       "</div>"
      ],
      "text/plain": [
       "        conversation_id  tweet_id  inbound  author_id  \\\n",
       "931957          1034144   1034144    False  AskPayPal   \n",
       "931956          1034144   1034137     True     364651   \n",
       "931948          1034144   1034135    False  AskPayPal   \n",
       "\n",
       "        in_response_to_tweet_id                created_at  \n",
       "931957                  1034145 2017-10-20 05:03:27+00:00  \n",
       "931956                  1034144 2017-10-20 08:57:50+00:00  \n",
       "931948                  1034137 2017-10-23 06:11:28+00:00  "
      ]
     },
     "metadata": {},
     "output_type": "display_data"
    }
   ],
   "source": [
    "# Validation of the conversation_id column\n",
    "\n",
    "tam = (data_sample.groupby('conversation_id')['tweet_id']\n",
    "       .size().sort_values(ascending=False))\n",
    "print('Big Threads:', tam.head(10).to_dict())\n",
    "\n",
    "ex_conv = tam.index[0]\n",
    "print('\\nExample:')\n",
    "cols = ['conversation_id', 'tweet_id', 'inbound', 'author_id',\n",
    "        'in_response_to_tweet_id', 'created_at']\n",
    "display(data_sample.loc[\n",
    "    data_sample['conversation_id'] == ex_conv, cols\n",
    "].sort_values('created_at').head(10))"
   ]
  },
  {
   "cell_type": "code",
   "execution_count": 48,
   "id": "5b6e124d",
   "metadata": {},
   "outputs": [],
   "source": [
    "# Normalize datetime\n",
    "data_sample['created_at'] = pd.to_datetime(\n",
    "    data_sample['created_at'], utc=True, errors='coerce'\n",
    ")\n",
    "\n",
    "# Detect text column\n",
    "text_col = ['text']\n",
    "# Detect conversation column\n",
    "conv_col = 'conversation_id'"
   ]
  },
  {
   "cell_type": "code",
   "execution_count": null,
   "id": "dcce24a3",
   "metadata": {},
   "outputs": [],
   "source": [
    "# Using the last tweet of the conversation\n",
    "df_cli = data_sample.loc[\n",
    "    data_sample['inbound'] == True,\n",
    "    [conv_col, 'tweet_id', 'created_at', text_col]\n",
    "].copy()\n",
    "\n",
    "df_cli = df_cli.sort_values([conv_col, 'created_at'])\n",
    "\n",
    "idx_last = df_cli.groupby(conv_col)['created_at'].idxmax()\n",
    "ultimo_cliente = df_cli.loc[idx_last].reset_index(drop=True)\n",
    "\n",
    "# Clean text\n",
    "ultimo_cliente['text_clean'] = (\n",
    "    ultimo_cliente[text_col].astype(str)\n",
    "    .str.replace(r'\\s+', ' ', regex=True).str.strip()\n",
    ")\n",
    "\n",
    "# Remove NA\n",
    "ultimo_cliente = ultimo_cliente.loc[\n",
    "    ultimo_cliente['text_clean'].str.len() > 0\n",
    "].reset_index(drop=True)\n",
    "\n",
    "ultimo_cliente.head(3)"
   ]
  }
 ],
 "metadata": {
  "kernelspec": {
   "display_name": ".venv",
   "language": "python",
   "name": "python3"
  },
  "language_info": {
   "codemirror_mode": {
    "name": "ipython",
    "version": 3
   },
   "file_extension": ".py",
   "mimetype": "text/x-python",
   "name": "python",
   "nbconvert_exporter": "python",
   "pygments_lexer": "ipython3",
   "version": "3.11.7"
  }
 },
 "nbformat": 4,
 "nbformat_minor": 5
}
